{
 "cells": [
  {
   "cell_type": "markdown",
   "metadata": {},
   "source": [
    "## This is a Jupyter notebook with examples of using NLP for basic text mining."
   ]
  },
  {
   "cell_type": "code",
   "execution_count": 1,
   "metadata": {
    "collapsed": true
   },
   "outputs": [],
   "source": [
    "# Import all libraries and functions\n",
    "\n",
    "import nltk\n",
    "from nltk.corpus import stopwords\n",
    "from nltk.corpus import wordnet\n",
    "from nltk.stem import WordNetLemmatizer\n",
    "\n",
    "engstopwords = set(stopwords.words('english'))\n",
    "lemmatizer = WordNetLemmatizer()\n",
    "\n",
    "def get_wordnet_pos(treebank_tag):\n",
    "    \"\"\"Utility function to convert pos_tag part-of-speech tags \n",
    "    to WordNet tags for use with lemmatizer. \n",
    "    \"\"\"\n",
    "    \n",
    "    if treebank_tag.startswith('J'):\n",
    "        return wordnet.ADJ\n",
    "    elif treebank_tag.startswith('V'):\n",
    "        return wordnet.VERB\n",
    "    elif treebank_tag.startswith('N'):\n",
    "        return wordnet.NOUN\n",
    "    elif treebank_tag.startswith('R'):\n",
    "        return wordnet.ADV\n",
    "    else:\n",
    "        return None # for easy if-statement \n",
    "\n",
    "def tokenize(text):\n",
    "    \"\"\"Takes raw text, tokenizes it, removes stopwords \n",
    "    and words that are one-character long (like 'a' and punctuation.\n",
    "    Returns a list of tokens.\n",
    "    \"\"\"\n",
    "    \n",
    "    tokens = nltk.tokenize.word_tokenize(text)\n",
    "    tokens = [word.lower() for word in tokens if len(word) > 1]\n",
    "    tokens = [word for word in tokens if word not in engstopwords]\n",
    "    return tokens\n",
    "\n",
    "def get_pos(tokens):\n",
    "    \"\"\"Takes a token list and gets the part-of-speech for each.\n",
    "    Returns a list of tuples ('word', 'POS')\n",
    "    \"\"\"\n",
    "    \n",
    "    tagged = nltk.pos_tag(tokens)\n",
    "    return tagged\n",
    "  \n",
    "def lemmatize(tagged_words):\n",
    "    \"\"\"Lemmatizes words. That is, it normalizes words to their most\n",
    "    basic form. For example, 'is', 'am' and 'are' are merged into 'be'.\n",
    "    \n",
    "    Returns a list of lemmarized tokens.\n",
    "    \n",
    "    Lemmatization is confined to parts of speech. Verb variations are lemmatized\n",
    "    to the root verb, and same with nouns.\n",
    "    \n",
    "    Example: 'continues' and 'continuing' are merged to 'continue'\n",
    "    but 'continuation' stays the same.\n",
    "    \"\"\"\n",
    "    \n",
    "    lemma_list = []\n",
    "    for word, tag in tagged_words:\n",
    "        wntag = get_wordnet_pos(tag)\n",
    "        if wntag is None:\n",
    "            lemma = lemmatizer.lemmatize(word) \n",
    "        else:\n",
    "            lemma = lemmatizer.lemmatize(word, pos=wntag)\n",
    "        lemma_list.append(lemma)\n",
    "    return lemma_list\n",
    "  \n",
    "def get_distfreq(tokens, top_n):\n",
    "    \"\"\" Finds the most common words in a token list.\n",
    "    Returns a list of tuples ('word', frequency)\n",
    "    \"\"\"\n",
    "    \n",
    "    fdist = nltk.FreqDist(tokens)\n",
    "    return fdist.most_common(top_n)"
   ]
  },
  {
   "cell_type": "code",
   "execution_count": 2,
   "metadata": {
    "collapsed": true
   },
   "outputs": [],
   "source": [
    "# Load raw text file. This is the campaign platform for a municipal\n",
    "# party gunning for the Montreal mayorship\n",
    "# It has been converted to simple text from PDF using CometDocs.\n",
    "\n",
    "with open('A_STRONG_PLAN_FOR_A_BOLD_CITY.txt', encoding='utf-8') as f1:\n",
    "    coderre = f1.read()"
   ]
  },
  {
   "cell_type": "code",
   "execution_count": 5,
   "metadata": {
    "collapsed": false,
    "scrolled": true
   },
   "outputs": [
    {
     "data": {
      "text/plain": [
       "['\\ufeffcontinuing',\n",
       " 'progress',\n",
       " 'together',\n",
       " 'strong',\n",
       " 'plan',\n",
       " 'sustainable',\n",
       " 'city',\n",
       " 'electoral',\n",
       " 'platform',\n",
       " '2017-2021',\n",
       " 'dear',\n",
       " 'friends',\n",
       " 'last',\n",
       " 'four',\n",
       " 'years',\n",
       " 'proven',\n",
       " 'anything',\n",
       " 'it’s',\n",
       " 'working',\n",
       " 'together',\n",
       " 'nothing',\n",
       " 'impossible',\n",
       " 'since',\n",
       " 'arrival',\n",
       " 'city',\n",
       " 'hall',\n",
       " 'many',\n",
       " 'achievements',\n",
       " 'result',\n",
       " 'strong',\n",
       " 'commitment',\n",
       " 'elected',\n",
       " 'officials',\n",
       " 'teamed',\n",
       " 'community',\n",
       " 'leaders',\n",
       " 'montréal',\n",
       " 'civil',\n",
       " 'society',\n",
       " 'everyone']"
      ]
     },
     "execution_count": 5,
     "metadata": {},
     "output_type": "execute_result"
    }
   ],
   "source": [
    "# Tokenize Coderre text and print first 40 tokens\n",
    "\n",
    "coderre_tokens = tokenize(coderre)\n",
    "coderre_tokens[:40]"
   ]
  },
  {
   "cell_type": "code",
   "execution_count": 7,
   "metadata": {
    "collapsed": false
   },
   "outputs": [
    {
     "data": {
      "text/plain": [
       "[('\\ufeffcontinuing', 'VBG'),\n",
       " ('progress', 'NN'),\n",
       " ('together', 'RB'),\n",
       " ('strong', 'JJ'),\n",
       " ('plan', 'NN'),\n",
       " ('sustainable', 'JJ'),\n",
       " ('city', 'NN'),\n",
       " ('electoral', 'JJ'),\n",
       " ('platform', 'NN'),\n",
       " ('2017-2021', 'JJ'),\n",
       " ('dear', 'JJ'),\n",
       " ('friends', 'NNS'),\n",
       " ('last', 'JJ'),\n",
       " ('four', 'CD'),\n",
       " ('years', 'NNS'),\n",
       " ('proven', 'RB'),\n",
       " ('anything', 'NN'),\n",
       " ('it’s', 'JJ'),\n",
       " ('working', 'VBG'),\n",
       " ('together', 'RB')]"
      ]
     },
     "execution_count": 7,
     "metadata": {},
     "output_type": "execute_result"
    }
   ],
   "source": [
    "# Get the part of speech for each token\n",
    "\n",
    "coderre_pos = get_pos(coderre_tokens)\n",
    "coderre_pos[:20]"
   ]
  },
  {
   "cell_type": "code",
   "execution_count": 9,
   "metadata": {
    "collapsed": false
   },
   "outputs": [
    {
     "data": {
      "text/plain": [
       "[('montréal', 84),\n",
       " ('city', 75),\n",
       " ('continue', 53),\n",
       " ('together', 43),\n",
       " ('development', 36),\n",
       " ('new', 33),\n",
       " ('project', 28),\n",
       " ('develop', 28),\n",
       " ('work', 27),\n",
       " ('social', 26)]"
      ]
     },
     "execution_count": 9,
     "metadata": {},
     "output_type": "execute_result"
    }
   ],
   "source": [
    "# Lemmatize the tokens using the wordnet POS converter function and get 10 most common words\n",
    "\n",
    "coderre_lemma = lemmatize(coderre_pos)\n",
    "get_distfreq(coderre_lemma, 10)"
   ]
  }
 ],
 "metadata": {
  "kernelspec": {
   "display_name": "Python 3",
   "language": "python",
   "name": "python3"
  },
  "language_info": {
   "codemirror_mode": {
    "name": "ipython",
    "version": 3
   },
   "file_extension": ".py",
   "mimetype": "text/x-python",
   "name": "python",
   "nbconvert_exporter": "python",
   "pygments_lexer": "ipython3",
   "version": "3.6.0"
  }
 },
 "nbformat": 4,
 "nbformat_minor": 2
}
